{
 "cells": [
  {
   "cell_type": "code",
   "execution_count": 1,
   "metadata": {},
   "outputs": [
    {
     "name": "stderr",
     "output_type": "stream",
     "text": [
      "c:\\Users\\qwer9\\AppData\\Local\\Programs\\Python\\Python312\\Lib\\site-packages\\gym\\envs\\registration.py:307: DeprecationWarning: The package name gym_minigrid has been deprecated in favor of minigrid. Please uninstall gym_minigrid and install minigrid with `pip install minigrid`. Future releases will be maintained under the new package name minigrid.\n",
      "  fn()\n"
     ]
    }
   ],
   "source": [
    "# Remember to adjust your student ID in meta.xml\n",
    "import numpy as np\n",
    "import pickle\n",
    "import random\n",
    "import gym\n",
    "from simple_custom_taxi_env import SimpleTaxiEnv\n",
    "from tqdm import tqdm"
   ]
  },
  {
   "cell_type": "code",
   "execution_count": 2,
   "metadata": {},
   "outputs": [],
   "source": [
    "def get_action(obs):\n",
    "    \n",
    "    # TODO: Train your own agent\n",
    "    # HINT: If you're using a Q-table, consider designing a custom key based on `obs` to store useful information.\n",
    "    # NOTE: Keep in mind that your Q-table may not cover all possible states in the testing environment.\n",
    "    #       To prevent crashes, implement a fallback strategy for missing keys. \n",
    "    #       Otherwise, even if your agent performs well in training, it may fail during testing.\n",
    "\n",
    "\n",
    "    return random.choice([0, 1, 2, 3, 4, 5]) # Choose a random action\n",
    "    # You can submit this random agent to evaluate the performance of a purely random strategy.\n"
   ]
  },
  {
   "cell_type": "code",
   "execution_count": 18,
   "metadata": {},
   "outputs": [],
   "source": [
    "def table_q_learning(episode = 5000, alpha = 0.1, gamma = 0.99, epsilon_start = 1.0, epsilon_end = 0.1, epsilon_decay = 0.999):\n",
    "    q_table = {}\n",
    "    total_rewards = []\n",
    "\n",
    "    for i in tqdm(range(episode)):\n",
    "        env = SimpleTaxiEnv(fuel_limit=5000)\n",
    "        raw_state, _ = env.reset()\n",
    "        total_reward = 0\n",
    "        done = False\n",
    "        step_count = 0\n",
    "        epsilon = epsilon_start\n",
    "        taxi_row, taxi_col, _,_,_,_,_,_,_,_,obstacle_north, obstacle_south, obstacle_east, obstacle_west, passenger_look, destination_look = raw_state\n",
    "        taxi_pos = (taxi_row, taxi_col)\n",
    "        state = ( obstacle_south, obstacle_north, obstacle_east, obstacle_west)\n",
    "\n",
    "        saved = False\n",
    "        # if (i + 1) % 10000 == 0:\n",
    "        #     saved = True\n",
    "        #     print(f\"=========================={i+1}th episodes Start!==========================\")\n",
    "        \n",
    "        while not done:\n",
    "            if state not in q_table:\n",
    "                q_table[state] = np.zeros(6)\n",
    "            if random.uniform(0, 1) < epsilon:\n",
    "                action = random.choice([0, 1, 2, 3, 4, 5])\n",
    "            else:\n",
    "                action = np.argmax(q_table[state])\n",
    "            next_raw_state, reward, done, _ = env.step(action)\n",
    "\n",
    "            if saved:\n",
    "                env.render_env(taxi_pos, action = action, step = step_count)\n",
    "\n",
    "            taxi_row, taxi_col, _,_,_,_,_,_,_,_,obstacle_north, obstacle_south, obstacle_east, obstacle_west, passenger_look, destination_look = next_raw_state\n",
    "            taxi_pos = (taxi_row, taxi_col)\n",
    "            next_state = ( obstacle_south, obstacle_north, obstacle_east, obstacle_west)\n",
    "            if next_state not in q_table:\n",
    "                q_table[next_state] = np.zeros(6)\n",
    "            q_table[state][action] = q_table[state][action] + alpha*(reward + gamma*np.max(q_table[next_state]) - q_table[state][action])\n",
    "            state = next_state\n",
    "            total_reward += reward\n",
    "            step_count += 1\n",
    "            if epsilon > epsilon_end:\n",
    "                epsilon *= epsilon_decay\n",
    "            # if step_count > 500:\n",
    "            #     break\n",
    "\n",
    "        total_rewards.append(total_reward)\n",
    "        if saved:\n",
    "            print(f\"Episode: {i + 1}/{episode}, Total Reward: {total_reward}, Steps: {step_count}, Epsilon: {epsilon}\")\n",
    "\n",
    "    return q_table, total_rewards\n",
    "\n",
    "def save_q_table(q_table):\n",
    "    with open('q_table.pkl', 'wb') as f:\n",
    "        pickle.dump(q_table, f)\n"
   ]
  },
  {
   "cell_type": "code",
   "execution_count": 19,
   "metadata": {},
   "outputs": [
    {
     "name": "stderr",
     "output_type": "stream",
     "text": [
      "  0%|          | 0/5000 [00:00<?, ?it/s]"
     ]
    },
    {
     "name": "stderr",
     "output_type": "stream",
     "text": [
      "100%|██████████| 5000/5000 [05:30<00:00, 15.14it/s]\n"
     ]
    }
   ],
   "source": [
    "q_table, total_rewards = table_q_learning(episode=5000, alpha=0.1, gamma=0.99, epsilon_start=1.0, epsilon_end=0.0001, epsilon_decay=0.999)\n",
    "save_q_table(q_table)"
   ]
  },
  {
   "cell_type": "code",
   "execution_count": 15,
   "metadata": {},
   "outputs": [
    {
     "data": {
      "image/png": "[encoded data removed]",
      "text/plain": [
       "<Figure size 640x480 with 1 Axes>"
      ]
     },
     "metadata": {},
     "output_type": "display_data"
    }
   ],
   "source": [
    "# Plot the rewards\n",
    "import matplotlib.pyplot as plt\n",
    "plt.plot(total_rewards)\n",
    "plt.xlabel(\"Episode\")\n",
    "plt.ylabel(\"Total Reward\")\n",
    "plt.title(\"Total Reward vs Episode\")\n",
    "plt.show()"
   ]
  },
  {
   "cell_type": "code",
   "execution_count": 16,
   "metadata": {},
   "outputs": [
    {
     "name": "stdout",
     "output_type": "stream",
     "text": [
      "{(0, 0, 1, 0): array([384.14835929, 384.83729892, 376.32365672, 385.73125736,\n",
      "       370.96165302, 371.00331124]), (0, 0, 0, 0): array([388.03827582, 387.84232882, 387.46949587, 387.24060817,\n",
      "       373.74489494, 373.67282783]), (0, 0, 0, 1): array([384.5197225 , 384.85609736, 385.41854888, 375.55468999,\n",
      "       370.66907223, 370.90777308]), (1, 1, 0, 0): array([359.74837891, 355.56333426, 370.32915431, 375.9564435 ,\n",
      "       345.8110897 , 348.07736229]), (1, 0, 1, 0): array([369.46102833, 380.68470514, 370.06270184, 382.51654762,\n",
      "       359.95576469, 360.83276691]), (1, 0, 0, 0): array([376.95349257, 387.31316816, 379.12665668, 385.23238226,\n",
      "       371.64698607, 371.58169893]), (0, 1, 1, 0): array([380.30779738, 368.44735269, 369.23966932, 384.14219014,\n",
      "       364.67057242, 364.07991652]), (0, 1, 0, 0): array([387.53549404, 376.9180744 , 383.15520162, 384.95761332,\n",
      "       371.22580092, 372.1540913 ]), (0, 1, 0, 1): array([378.97162905, 366.47002105, 383.22975046, 369.35752129,\n",
      "       365.31260309, 363.2121763 ]), (1, 0, 1, 1): array([266.58745591, 317.64752303, 260.56015783, 251.31559518,\n",
      "       230.67034198, 237.51047809]), (0, 0, 1, 1): array([378.16992755, 378.02438406, 355.64635087, 359.87505786,\n",
      "       346.32930224, 346.45559471]), (1, 0, 0, 1): array([367.87628528, 383.16058175, 383.12196158, 367.48024554,\n",
      "       362.79276877, 363.18314452]), (1, 1, 1, 0): array([276.87312636, 265.83694454, 273.34628216, 329.71377856,\n",
      "       253.60796095, 249.82673412]), (1, 1, 0, 1): array([275.20670119, 234.43443084, 341.59110008, 265.1114572 ,\n",
      "       258.57883868, 263.1333757 ]), (0, 1, 1, 1): array([362.55226851, 289.31868247, 268.13826263, 298.91440801,\n",
      "       239.60356398, 277.00518286]), (1, 1, 1, 1): array([-3.58514785, -1.849821  , -1.01949   , -0.51      , -3.52388   ,\n",
      "       -4.30968611])}\n"
     ]
    }
   ],
   "source": [
    "print(q_table)"
   ]
  },
  {
   "cell_type": "code",
   "execution_count": 17,
   "metadata": {},
   "outputs": [
    {
     "name": "stdout",
     "output_type": "stream",
     "text": [
      "{(0, 0, 1, 0): 3, (0, 0, 0, 0): 0, (0, 0, 0, 1): 2, (1, 1, 0, 0): 3, (1, 0, 1, 0): 3, (1, 0, 0, 0): 1, (0, 1, 1, 0): 3, (0, 1, 0, 0): 0, (0, 1, 0, 1): 2, (1, 0, 1, 1): 1, (0, 0, 1, 1): 0, (1, 0, 0, 1): 1, (1, 1, 1, 0): 3, (1, 1, 0, 1): 2, (0, 1, 1, 1): 0, (1, 1, 1, 1): 3}\n"
     ]
    }
   ],
   "source": [
    "actions = [ 'Move South', 'Move North', 'Move East', 'Move West', 'Pickup', 'Dropoff']\n",
    "action_table = {}\n",
    "for state, action in q_table.items():\n",
    "    action_table[state] = np.argmax(action)\n",
    "print(action_table)"
   ]
  }
 ],
 "metadata": {
  "kernelspec": {
   "display_name": "Python 3",
   "language": "python",
   "name": "python3"
  },
  "language_info": {
   "codemirror_mode": {
    "name": "ipython",
    "version": 3
   },
   "file_extension": ".py",
   "mimetype": "text/x-python",
   "name": "python",
   "nbconvert_exporter": "python",
   "pygments_lexer": "ipython3",
   "version": "3.12.4"
  }
 },
 "nbformat": 4,
 "nbformat_minor": 2
}
